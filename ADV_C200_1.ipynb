{
  "nbformat": 4,
  "nbformat_minor": 0,
  "metadata": {
    "colab": {
      "name": "ADV-C200-1.ipynb",
      "provenance": [],
      "include_colab_link": true
    },
    "kernelspec": {
      "name": "python3",
      "display_name": "Python 3"
    }
  },
  "cells": [
    {
      "cell_type": "markdown",
      "metadata": {
        "id": "view-in-github",
        "colab_type": "text"
      },
      "source": [
        "<a href=\"https://colab.research.google.com/github/Surya22072008/Python/blob/main/ADV_C200_1.ipynb\" target=\"_parent\"><img src=\"https://colab.research.google.com/assets/colab-badge.svg\" alt=\"Open In Colab\"/></a>"
      ]
    },
    {
      "cell_type": "code",
      "metadata": {
        "colab": {
          "base_uri": "https://localhost:8080/",
          "height": 235
        },
        "id": "bejjXm4z_rok",
        "outputId": "3b4ca73b-a78f-4c85-b528-2b32f1e50eef"
      },
      "source": [
        "# Task description - create button and input field widget\n",
        "from ipywidgets import widgets\n",
        "from IPython.display import display, clear_output\n",
        "import pandas as pd\n",
        "import matplotlib.pyplot as plt \n",
        "from tkinter import Tk, filedialog\n",
        "graph_type = ['Choose one..','line''bar']\n",
        "operations = ['choose','mean','max','min','sum','count']\n",
        "df = ''\n",
        "ndf = ''\n",
        "\n",
        "def select_fles(b):\n",
        "  clear_output()\n",
        "  global df\n",
        "  root = Tk()\n",
        "  root.withdraw()\n",
        "  file_name = filedialog.askopenfilename()\n",
        "  df = pd.read_csv(file_name)\n",
        "  print(file_name)\n",
        "  df.replace('0',float('nan'),inplace=True)\n",
        "  df.replace(' ',float('nan'),inplace=True)\n",
        "  df = df.dropna()\n",
        "  display(df)\n",
        "  groupby_col_widgets = widgets.Dropdown(options=df.columns)\n",
        "  operations_col_widgets = widgets.Dropdown(options=df.columns)\n",
        "  operations_widgets = widgets.Dropdown(options=operations)\n",
        "  groupby_int = widgets.interactive(groupby_dataframe,groupby_column= groupby_col_widgets,ope_col = operations_col_widgets,ope = operations_widgets)\n",
        "  display(groupby_int)\n",
        "\n",
        "def get_widgets():\n",
        "  global df\n",
        "  global ndf\n",
        "  xlabel_widgets  = widgets.Dropdown(options = ndf.columns)\n",
        "  ylabel_widgets  = widgets.Dropdown(options = ndf.columns)\n",
        "  graph_widgets  = widgets.Dropdown(options = graph_type)\n",
        "  graph = widgets.interactive(display_plot,xaxis = xlabel_widgets,yaxis = ylabel_widgets,graph_type  = graph_widgets)\n",
        "  display(graph)\n",
        "  def groupby_dataframe(groupby_column,ope_col,ope):\n",
        "    print(\"Group By\")\n",
        "fileselect = widgets.Button(description=\"File Select\")\n",
        "fileselect.on_click(select_fles)\n",
        "display(fileselect)\n",
        "  \n",
        "\n",
        "\n",
        "\n",
        "\n",
        "\n",
        "\n",
        "\n",
        "\n",
        "\n",
        "\n",
        "\n",
        "\n",
        "\n"
      ],
      "execution_count": 3,
      "outputs": [
        {
          "output_type": "error",
          "ename": "NameError",
          "evalue": "ignored",
          "traceback": [
            "\u001b[0;31m---------------------------------------------------------------------------\u001b[0m",
            "\u001b[0;31mNameError\u001b[0m                                 Traceback (most recent call last)",
            "\u001b[0;32m<ipython-input-3-8e4997b2cd6a>\u001b[0m in \u001b[0;36m<module>\u001b[0;34m\u001b[0m\n\u001b[1;32m     35\u001b[0m     \u001b[0mprint\u001b[0m\u001b[0;34m(\u001b[0m\u001b[0;34m\"Group By\"\u001b[0m\u001b[0;34m)\u001b[0m\u001b[0;34m\u001b[0m\u001b[0;34m\u001b[0m\u001b[0m\n\u001b[1;32m     36\u001b[0m \u001b[0mfileselect\u001b[0m \u001b[0;34m=\u001b[0m \u001b[0mwidgets\u001b[0m\u001b[0;34m.\u001b[0m\u001b[0mButton\u001b[0m\u001b[0;34m(\u001b[0m\u001b[0mdescription\u001b[0m\u001b[0;34m=\u001b[0m\u001b[0;34m\"File Select\"\u001b[0m\u001b[0;34m)\u001b[0m\u001b[0;34m\u001b[0m\u001b[0;34m\u001b[0m\u001b[0m\n\u001b[0;32m---> 37\u001b[0;31m \u001b[0mfileselect\u001b[0m\u001b[0;34m.\u001b[0m\u001b[0mon_click\u001b[0m\u001b[0;34m(\u001b[0m\u001b[0mselect_files\u001b[0m\u001b[0;34m)\u001b[0m\u001b[0;34m\u001b[0m\u001b[0;34m\u001b[0m\u001b[0m\n\u001b[0m\u001b[1;32m     38\u001b[0m \u001b[0mdisplay\u001b[0m\u001b[0;34m(\u001b[0m\u001b[0mfileselect\u001b[0m\u001b[0;34m)\u001b[0m\u001b[0;34m\u001b[0m\u001b[0;34m\u001b[0m\u001b[0m\n\u001b[1;32m     39\u001b[0m \u001b[0;34m\u001b[0m\u001b[0m\n",
            "\u001b[0;31mNameError\u001b[0m: name 'select_files' is not defined"
          ]
        }
      ]
    }
  ]
}