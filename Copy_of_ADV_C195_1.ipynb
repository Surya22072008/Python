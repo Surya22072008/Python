{
  "nbformat": 4,
  "nbformat_minor": 0,
  "metadata": {
    "colab": {
      "name": "Copy_of_ADV_C195_1.ipynb",
      "provenance": [],
      "collapsed_sections": [],
      "include_colab_link": true
    },
    "kernelspec": {
      "name": "python3",
      "display_name": "Python 3"
    }
  },
  "cells": [
    {
      "cell_type": "markdown",
      "metadata": {
        "id": "view-in-github",
        "colab_type": "text"
      },
      "source": [
        "<a href=\"https://colab.research.google.com/github/Surya22072008/Python/blob/main/Copy_of_ADV_C195_1.ipynb\" target=\"_parent\"><img src=\"https://colab.research.google.com/assets/colab-badge.svg\" alt=\"Open In Colab\"/></a>"
      ]
    },
    {
      "cell_type": "code",
      "metadata": {
        "colab": {
          "base_uri": "https://localhost:8080/",
          "height": 369
        },
        "id": "eeFCyJQwEf38",
        "outputId": "5bcd629c-ff30-4327-d003-01f373dcb992"
      },
      "source": [
        "\n",
        "\n",
        "#predefine code\n",
        "import pandas as pd\n",
        "import matplotlib.pyplot as plt \n",
        "\n",
        "df = pd.read_csv('https://shravantihable.github.io/AA/austin_weather.csv')\n",
        "df\n",
        "#predefine code ends\n",
        "df['month'] = pd.DatetimeIndex(df['Date']).month\n",
        "#using the pd.DatetimeIndex() function, fetch the month from the 'Date' column. Do this by writing df['Date'] inside pd.DatetimeIndex() function and store it in variable df['month'].\n",
        "df\n",
        "\n",
        "df.replace(\"-\",float(\"NaN\"),inplace=True)\n",
        "dataframe = df.dropna()\n",
        "dataframe['HumidityHighPercent'] = dataframe['HumidityHighPercent'].astype(int)\n",
        "dataframe\n",
        "\n",
        "group_by_month = dataframe.groupby('month')[['TempHighF','HumidityHighPercent']].mean().reset_index()\n",
        "group_by_month\n",
        "\n",
        "month = group_by_month['month']\n",
        "TempHighF = group_by_month['TempHighF']\n",
        "Humidity = group_by_month[\"HumidityHighPercent\"]\n",
        "plt.scatter(month,TempHighF,label=\"Average Temperature\")\n",
        "plt.scatter(month,Humidity,label=\"Average Humidity\")\n",
        "plt.legend()\n",
        "plt.show()\n",
        "\n"
      ],
      "execution_count": 2,
      "outputs": [
        {
          "output_type": "stream",
          "name": "stderr",
          "text": [
            "/usr/local/lib/python3.7/dist-packages/ipykernel_launcher.py:14: SettingWithCopyWarning: \n",
            "A value is trying to be set on a copy of a slice from a DataFrame.\n",
            "Try using .loc[row_indexer,col_indexer] = value instead\n",
            "\n",
            "See the caveats in the documentation: https://pandas.pydata.org/pandas-docs/stable/user_guide/indexing.html#returning-a-view-versus-a-copy\n",
            "  \n"
          ]
        },
        {
          "output_type": "display_data",
          "data": {
            "text/plain": [
              "<Figure size 432x288 with 1 Axes>"
            ],
            "image/png": "[encoded data removed]"
          },
          "metadata": {
            "needs_background": "light"
          }
        }
      ]
    }
  ]
}